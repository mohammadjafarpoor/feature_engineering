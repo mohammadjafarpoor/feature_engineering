{
 "cells": [
  {
   "cell_type": "markdown",
   "id": "fa081ab2",
   "metadata": {
    "papermill": {
     "duration": 0.030844,
     "end_time": "2021-09-09T08:25:05.945341",
     "exception": false,
     "start_time": "2021-09-09T08:25:05.914497",
     "status": "completed"
    },
    "tags": []
   },
   "source": [
    "# Import Tools"
   ]
  },
  {
   "cell_type": "code",
   "execution_count": 1,
   "id": "c42c3e9f",
   "metadata": {
    "_cell_guid": "b1076dfc-b9ad-4769-8c92-a6c4dae69d19",
    "_uuid": "8f2839f25d086af736a60e9eeb907d3b93b6e0e5",
    "execution": {
     "iopub.execute_input": "2021-09-09T08:25:06.026444Z",
     "iopub.status.busy": "2021-09-09T08:25:06.021952Z",
     "iopub.status.idle": "2021-09-09T08:25:07.524106Z",
     "shell.execute_reply": "2021-09-09T08:25:07.524658Z",
     "shell.execute_reply.started": "2021-09-09T07:54:14.439371Z"
    },
    "papermill": {
     "duration": 1.547235,
     "end_time": "2021-09-09T08:25:07.524975",
     "exception": false,
     "start_time": "2021-09-09T08:25:05.977740",
     "status": "completed"
    },
    "tags": []
   },
   "outputs": [],
   "source": [
    "#import EDA tools\n",
    "import numpy as np\n",
    "import pandas as pd\n",
    "import matplotlib.pyplot as plt\n",
    "%matplotlib inline\n",
    "import seaborn as sns\n",
    "from sklearn.preprocessing import StandardScaler\n",
    "\n",
    "#import modeling tools\n",
    "from sklearn.feature_selection import mutual_info_classif\n",
    "from sklearn.model_selection import train_test_split\n",
    "from sklearn.cluster import KMeans\n",
    "from sklearn.ensemble import RandomForestClassifier\n",
    "from sklearn.neighbors import KNeighborsClassifier\n",
    "from sklearn import tree, svm\n",
    "\n",
    "#Model Evaluations\n",
    "from sklearn.model_selection import train_test_split, cross_val_score\n",
    "from sklearn.model_selection import RandomizedSearchCV, GridSearchCV\n",
    "from sklearn.metrics import plot_confusion_matrix, plot_roc_curve\n",
    "from sklearn.metrics import precision_score,recall_score,f1_score\n",
    "from sklearn.metrics import classification_report, accuracy_score, matthews_corrcoef"
   ]
  },
  {
   "cell_type": "markdown",
   "id": "746993a9",
   "metadata": {
    "papermill": {
     "duration": 0.029475,
     "end_time": "2021-09-09T08:25:07.584059",
     "exception": false,
     "start_time": "2021-09-09T08:25:07.554584",
     "status": "completed"
    },
    "tags": []
   },
   "source": [
    "# Load Data"
   ]
  },
  {
   "cell_type": "code",
   "execution_count": 2,
   "id": "3b3c00e1",
   "metadata": {
    "execution": {
     "iopub.execute_input": "2021-09-09T08:25:07.646205Z",
     "iopub.status.busy": "2021-09-09T08:25:07.645539Z",
     "iopub.status.idle": "2021-09-09T08:25:08.027087Z",
     "shell.execute_reply": "2021-09-09T08:25:08.027583Z",
     "shell.execute_reply.started": "2021-09-09T05:49:00.312427Z"
    },
    "papermill": {
     "duration": 0.414191,
     "end_time": "2021-09-09T08:25:08.027758",
     "exception": false,
     "start_time": "2021-09-09T08:25:07.613567",
     "status": "completed"
    },
    "tags": []
   },
   "outputs": [
    {
     "data": {
      "text/html": [
       "<div>\n",
       "<style scoped>\n",
       "    .dataframe tbody tr th:only-of-type {\n",
       "        vertical-align: middle;\n",
       "    }\n",
       "\n",
       "    .dataframe tbody tr th {\n",
       "        vertical-align: top;\n",
       "    }\n",
       "\n",
       "    .dataframe thead th {\n",
       "        text-align: right;\n",
       "    }\n",
       "</style>\n",
       "<table border=\"1\" class=\"dataframe\">\n",
       "  <thead>\n",
       "    <tr style=\"text-align: right;\">\n",
       "      <th></th>\n",
       "      <th>Time</th>\n",
       "      <th>0</th>\n",
       "      <th>1</th>\n",
       "      <th>2</th>\n",
       "      <th>3</th>\n",
       "      <th>4</th>\n",
       "      <th>5</th>\n",
       "      <th>6</th>\n",
       "      <th>7</th>\n",
       "      <th>8</th>\n",
       "      <th>...</th>\n",
       "      <th>581</th>\n",
       "      <th>582</th>\n",
       "      <th>583</th>\n",
       "      <th>584</th>\n",
       "      <th>585</th>\n",
       "      <th>586</th>\n",
       "      <th>587</th>\n",
       "      <th>588</th>\n",
       "      <th>589</th>\n",
       "      <th>Pass/Fail</th>\n",
       "    </tr>\n",
       "  </thead>\n",
       "  <tbody>\n",
       "    <tr>\n",
       "      <th>0</th>\n",
       "      <td>2008-07-19 11:55:00</td>\n",
       "      <td>3030.93</td>\n",
       "      <td>2564.00</td>\n",
       "      <td>2187.7333</td>\n",
       "      <td>1411.1265</td>\n",
       "      <td>1.3602</td>\n",
       "      <td>100.0</td>\n",
       "      <td>97.6133</td>\n",
       "      <td>0.1242</td>\n",
       "      <td>1.5005</td>\n",
       "      <td>...</td>\n",
       "      <td>NaN</td>\n",
       "      <td>0.5005</td>\n",
       "      <td>0.0118</td>\n",
       "      <td>0.0035</td>\n",
       "      <td>2.3630</td>\n",
       "      <td>NaN</td>\n",
       "      <td>NaN</td>\n",
       "      <td>NaN</td>\n",
       "      <td>NaN</td>\n",
       "      <td>-1</td>\n",
       "    </tr>\n",
       "    <tr>\n",
       "      <th>1</th>\n",
       "      <td>2008-07-19 12:32:00</td>\n",
       "      <td>3095.78</td>\n",
       "      <td>2465.14</td>\n",
       "      <td>2230.4222</td>\n",
       "      <td>1463.6606</td>\n",
       "      <td>0.8294</td>\n",
       "      <td>100.0</td>\n",
       "      <td>102.3433</td>\n",
       "      <td>0.1247</td>\n",
       "      <td>1.4966</td>\n",
       "      <td>...</td>\n",
       "      <td>208.2045</td>\n",
       "      <td>0.5019</td>\n",
       "      <td>0.0223</td>\n",
       "      <td>0.0055</td>\n",
       "      <td>4.4447</td>\n",
       "      <td>0.0096</td>\n",
       "      <td>0.0201</td>\n",
       "      <td>0.0060</td>\n",
       "      <td>208.2045</td>\n",
       "      <td>-1</td>\n",
       "    </tr>\n",
       "    <tr>\n",
       "      <th>2</th>\n",
       "      <td>2008-07-19 13:17:00</td>\n",
       "      <td>2932.61</td>\n",
       "      <td>2559.94</td>\n",
       "      <td>2186.4111</td>\n",
       "      <td>1698.0172</td>\n",
       "      <td>1.5102</td>\n",
       "      <td>100.0</td>\n",
       "      <td>95.4878</td>\n",
       "      <td>0.1241</td>\n",
       "      <td>1.4436</td>\n",
       "      <td>...</td>\n",
       "      <td>82.8602</td>\n",
       "      <td>0.4958</td>\n",
       "      <td>0.0157</td>\n",
       "      <td>0.0039</td>\n",
       "      <td>3.1745</td>\n",
       "      <td>0.0584</td>\n",
       "      <td>0.0484</td>\n",
       "      <td>0.0148</td>\n",
       "      <td>82.8602</td>\n",
       "      <td>1</td>\n",
       "    </tr>\n",
       "    <tr>\n",
       "      <th>3</th>\n",
       "      <td>2008-07-19 14:43:00</td>\n",
       "      <td>2988.72</td>\n",
       "      <td>2479.90</td>\n",
       "      <td>2199.0333</td>\n",
       "      <td>909.7926</td>\n",
       "      <td>1.3204</td>\n",
       "      <td>100.0</td>\n",
       "      <td>104.2367</td>\n",
       "      <td>0.1217</td>\n",
       "      <td>1.4882</td>\n",
       "      <td>...</td>\n",
       "      <td>73.8432</td>\n",
       "      <td>0.4990</td>\n",
       "      <td>0.0103</td>\n",
       "      <td>0.0025</td>\n",
       "      <td>2.0544</td>\n",
       "      <td>0.0202</td>\n",
       "      <td>0.0149</td>\n",
       "      <td>0.0044</td>\n",
       "      <td>73.8432</td>\n",
       "      <td>-1</td>\n",
       "    </tr>\n",
       "    <tr>\n",
       "      <th>4</th>\n",
       "      <td>2008-07-19 15:22:00</td>\n",
       "      <td>3032.24</td>\n",
       "      <td>2502.87</td>\n",
       "      <td>2233.3667</td>\n",
       "      <td>1326.5200</td>\n",
       "      <td>1.5334</td>\n",
       "      <td>100.0</td>\n",
       "      <td>100.3967</td>\n",
       "      <td>0.1235</td>\n",
       "      <td>1.5031</td>\n",
       "      <td>...</td>\n",
       "      <td>NaN</td>\n",
       "      <td>0.4800</td>\n",
       "      <td>0.4766</td>\n",
       "      <td>0.1045</td>\n",
       "      <td>99.3032</td>\n",
       "      <td>0.0202</td>\n",
       "      <td>0.0149</td>\n",
       "      <td>0.0044</td>\n",
       "      <td>73.8432</td>\n",
       "      <td>-1</td>\n",
       "    </tr>\n",
       "  </tbody>\n",
       "</table>\n",
       "<p>5 rows × 592 columns</p>\n",
       "</div>"
      ],
      "text/plain": [
       "                 Time        0        1          2          3       4      5  \\\n",
       "0 2008-07-19 11:55:00  3030.93  2564.00  2187.7333  1411.1265  1.3602  100.0   \n",
       "1 2008-07-19 12:32:00  3095.78  2465.14  2230.4222  1463.6606  0.8294  100.0   \n",
       "2 2008-07-19 13:17:00  2932.61  2559.94  2186.4111  1698.0172  1.5102  100.0   \n",
       "3 2008-07-19 14:43:00  2988.72  2479.90  2199.0333   909.7926  1.3204  100.0   \n",
       "4 2008-07-19 15:22:00  3032.24  2502.87  2233.3667  1326.5200  1.5334  100.0   \n",
       "\n",
       "          6       7       8  ...       581     582     583     584      585  \\\n",
       "0   97.6133  0.1242  1.5005  ...       NaN  0.5005  0.0118  0.0035   2.3630   \n",
       "1  102.3433  0.1247  1.4966  ...  208.2045  0.5019  0.0223  0.0055   4.4447   \n",
       "2   95.4878  0.1241  1.4436  ...   82.8602  0.4958  0.0157  0.0039   3.1745   \n",
       "3  104.2367  0.1217  1.4882  ...   73.8432  0.4990  0.0103  0.0025   2.0544   \n",
       "4  100.3967  0.1235  1.5031  ...       NaN  0.4800  0.4766  0.1045  99.3032   \n",
       "\n",
       "      586     587     588       589  Pass/Fail  \n",
       "0     NaN     NaN     NaN       NaN         -1  \n",
       "1  0.0096  0.0201  0.0060  208.2045         -1  \n",
       "2  0.0584  0.0484  0.0148   82.8602          1  \n",
       "3  0.0202  0.0149  0.0044   73.8432         -1  \n",
       "4  0.0202  0.0149  0.0044   73.8432         -1  \n",
       "\n",
       "[5 rows x 592 columns]"
      ]
     },
     "execution_count": 2,
     "metadata": {},
     "output_type": "execute_result"
    }
   ],
   "source": [
    "#load dataset\n",
    "df = pd.read_csv(\"../input/uci-semcom/uci-secom.csv\",\n",
    "                 parse_dates=[\"Time\"])\n",
    "df.head()"
   ]
  },
  {
   "cell_type": "code",
   "execution_count": 3,
   "id": "bdf72e1f",
   "metadata": {
    "execution": {
     "iopub.execute_input": "2021-09-09T08:25:08.092020Z",
     "iopub.status.busy": "2021-09-09T08:25:08.091334Z",
     "iopub.status.idle": "2021-09-09T08:25:08.134606Z",
     "shell.execute_reply": "2021-09-09T08:25:08.135130Z",
     "shell.execute_reply.started": "2021-09-09T05:49:00.685434Z"
    },
    "papermill": {
     "duration": 0.077063,
     "end_time": "2021-09-09T08:25:08.135295",
     "exception": false,
     "start_time": "2021-09-09T08:25:08.058232",
     "status": "completed"
    },
    "tags": []
   },
   "outputs": [
    {
     "name": "stdout",
     "output_type": "stream",
     "text": [
      "<class 'pandas.core.frame.DataFrame'>\n",
      "RangeIndex: 1567 entries, 0 to 1566\n",
      "Columns: 592 entries, Time to Pass/Fail\n",
      "dtypes: datetime64[ns](1), float64(590), int64(1)\n",
      "memory usage: 7.1 MB\n"
     ]
    }
   ],
   "source": [
    "df.info()"
   ]
  },
  {
   "cell_type": "markdown",
   "id": "18d88bd0",
   "metadata": {
    "papermill": {
     "duration": 0.031205,
     "end_time": "2021-09-09T08:25:08.197376",
     "exception": false,
     "start_time": "2021-09-09T08:25:08.166171",
     "status": "completed"
    },
    "tags": []
   },
   "source": [
    "# Handling The Missing Values"
   ]
  },
  {
   "cell_type": "code",
   "execution_count": 4,
   "id": "ed640ba0",
   "metadata": {
    "execution": {
     "iopub.execute_input": "2021-09-09T08:25:08.261341Z",
     "iopub.status.busy": "2021-09-09T08:25:08.260635Z",
     "iopub.status.idle": "2021-09-09T08:25:08.273561Z",
     "shell.execute_reply": "2021-09-09T08:25:08.274064Z",
     "shell.execute_reply.started": "2021-09-09T05:49:00.730418Z"
    },
    "papermill": {
     "duration": 0.046462,
     "end_time": "2021-09-09T08:25:08.274238",
     "exception": false,
     "start_time": "2021-09-09T08:25:08.227776",
     "status": "completed"
    },
    "tags": []
   },
   "outputs": [
    {
     "data": {
      "text/plain": [
       "Time          0\n",
       "0             6\n",
       "1             7\n",
       "2            14\n",
       "3            14\n",
       "             ..\n",
       "586           1\n",
       "587           1\n",
       "588           1\n",
       "589           1\n",
       "Pass/Fail     0\n",
       "Length: 592, dtype: int64"
      ]
     },
     "execution_count": 4,
     "metadata": {},
     "output_type": "execute_result"
    }
   ],
   "source": [
    "missing=df.isna().sum()\n",
    "missing"
   ]
  },
  {
   "cell_type": "code",
   "execution_count": 5,
   "id": "f762dc65",
   "metadata": {
    "execution": {
     "iopub.execute_input": "2021-09-09T08:25:08.339573Z",
     "iopub.status.busy": "2021-09-09T08:25:08.338929Z",
     "iopub.status.idle": "2021-09-09T08:25:08.653567Z",
     "shell.execute_reply": "2021-09-09T08:25:08.654048Z",
     "shell.execute_reply.started": "2021-09-09T05:49:00.74513Z"
    },
    "papermill": {
     "duration": 0.349123,
     "end_time": "2021-09-09T08:25:08.654214",
     "exception": false,
     "start_time": "2021-09-09T08:25:08.305091",
     "status": "completed"
    },
    "tags": []
   },
   "outputs": [
    {
     "data": {
      "image/png": "[encoded data removed]",
      "text/plain": [
       "<Figure size 1080x504 with 1 Axes>"
      ]
     },
     "metadata": {
      "needs_background": "light"
     },
     "output_type": "display_data"
    }
   ],
   "source": [
    "#visualize the unique missing values\n",
    "fig = plt.subplots(figsize=(15,7))\n",
    "\n",
    "plt.bar(np.arange(1, missing.sort_values(ascending=True).nunique()+1,1),\n",
    "       missing.sort_values(ascending=True).unique())\n",
    "plt.xticks(np.arange(1, missing.sort_values(ascending=True).nunique()+1,1));"
   ]
  },
  {
   "cell_type": "code",
   "execution_count": 6,
   "id": "0d2d29b2",
   "metadata": {
    "execution": {
     "iopub.execute_input": "2021-09-09T08:25:08.720740Z",
     "iopub.status.busy": "2021-09-09T08:25:08.720065Z",
     "iopub.status.idle": "2021-09-09T08:25:08.977671Z",
     "shell.execute_reply": "2021-09-09T08:25:08.977063Z",
     "shell.execute_reply.started": "2021-09-09T05:49:01.1392Z"
    },
    "papermill": {
     "duration": 0.29187,
     "end_time": "2021-09-09T08:25:08.977803",
     "exception": false,
     "start_time": "2021-09-09T08:25:08.685933",
     "status": "completed"
    },
    "tags": []
   },
   "outputs": [],
   "source": [
    "#Let's handle missing values with mean\n",
    "df1=df.drop(\"Time\", axis=1)\n",
    "for label,content in df1.items():\n",
    "    df1[label]=content.fillna(content.mean())"
   ]
  },
  {
   "cell_type": "markdown",
   "id": "ce60674f",
   "metadata": {
    "papermill": {
     "duration": 0.031481,
     "end_time": "2021-09-09T08:25:09.042052",
     "exception": false,
     "start_time": "2021-09-09T08:25:09.010571",
     "status": "completed"
    },
    "tags": []
   },
   "source": [
    "# Feature Engineering"
   ]
  },
  {
   "cell_type": "code",
   "execution_count": 7,
   "id": "38a0dc4d",
   "metadata": {
    "execution": {
     "iopub.execute_input": "2021-09-09T08:25:09.111514Z",
     "iopub.status.busy": "2021-09-09T08:25:09.110466Z",
     "iopub.status.idle": "2021-09-09T08:25:09.118976Z",
     "shell.execute_reply": "2021-09-09T08:25:09.118446Z",
     "shell.execute_reply.started": "2021-09-09T05:49:01.292919Z"
    },
    "papermill": {
     "duration": 0.045435,
     "end_time": "2021-09-09T08:25:09.119112",
     "exception": false,
     "start_time": "2021-09-09T08:25:09.073677",
     "status": "completed"
    },
    "tags": []
   },
   "outputs": [],
   "source": [
    "#Now let's convert Time to separate columns of Year, Month, Day, Day of year and Day of week .\n",
    "#this step is important because the time data cannot be preprocessed in first format.\n",
    "df1[\"Year\"]= df.Time.dt.year\n",
    "df1[\"Month\"]= df.Time.dt.month\n",
    "df1[\"Day\"]= df.Time.dt.day\n",
    "df1[\"DayOfWeek\"]= df.Time.dt.dayofweek\n",
    "df1[\"DayOfYear\"]= df.Time.dt.dayofyear"
   ]
  },
  {
   "cell_type": "code",
   "execution_count": 8,
   "id": "155b3705",
   "metadata": {
    "execution": {
     "iopub.execute_input": "2021-09-09T08:25:09.197661Z",
     "iopub.status.busy": "2021-09-09T08:25:09.195375Z",
     "iopub.status.idle": "2021-09-09T08:25:09.214312Z",
     "shell.execute_reply": "2021-09-09T08:25:09.213799Z",
     "shell.execute_reply.started": "2021-09-09T05:49:01.305464Z"
    },
    "papermill": {
     "duration": 0.063456,
     "end_time": "2021-09-09T08:25:09.214446",
     "exception": false,
     "start_time": "2021-09-09T08:25:09.150990",
     "status": "completed"
    },
    "tags": []
   },
   "outputs": [
    {
     "data": {
      "text/html": [
       "<div>\n",
       "<style scoped>\n",
       "    .dataframe tbody tr th:only-of-type {\n",
       "        vertical-align: middle;\n",
       "    }\n",
       "\n",
       "    .dataframe tbody tr th {\n",
       "        vertical-align: top;\n",
       "    }\n",
       "\n",
       "    .dataframe thead th {\n",
       "        text-align: right;\n",
       "    }\n",
       "</style>\n",
       "<table border=\"1\" class=\"dataframe\">\n",
       "  <thead>\n",
       "    <tr style=\"text-align: right;\">\n",
       "      <th></th>\n",
       "      <th>0</th>\n",
       "      <th>1</th>\n",
       "      <th>2</th>\n",
       "      <th>3</th>\n",
       "      <th>4</th>\n",
       "      <th>5</th>\n",
       "      <th>6</th>\n",
       "      <th>7</th>\n",
       "      <th>8</th>\n",
       "      <th>9</th>\n",
       "      <th>...</th>\n",
       "      <th>586</th>\n",
       "      <th>587</th>\n",
       "      <th>588</th>\n",
       "      <th>589</th>\n",
       "      <th>Pass/Fail</th>\n",
       "      <th>Year</th>\n",
       "      <th>Month</th>\n",
       "      <th>Day</th>\n",
       "      <th>DayOfWeek</th>\n",
       "      <th>DayOfYear</th>\n",
       "    </tr>\n",
       "  </thead>\n",
       "  <tbody>\n",
       "    <tr>\n",
       "      <th>0</th>\n",
       "      <td>3030.93</td>\n",
       "      <td>2564.00</td>\n",
       "      <td>2187.7333</td>\n",
       "      <td>1411.1265</td>\n",
       "      <td>1.3602</td>\n",
       "      <td>100.0</td>\n",
       "      <td>97.6133</td>\n",
       "      <td>0.1242</td>\n",
       "      <td>1.5005</td>\n",
       "      <td>0.0162</td>\n",
       "      <td>...</td>\n",
       "      <td>0.021458</td>\n",
       "      <td>0.016475</td>\n",
       "      <td>0.005283</td>\n",
       "      <td>99.670066</td>\n",
       "      <td>-1</td>\n",
       "      <td>2008</td>\n",
       "      <td>7</td>\n",
       "      <td>19</td>\n",
       "      <td>5</td>\n",
       "      <td>201</td>\n",
       "    </tr>\n",
       "    <tr>\n",
       "      <th>1</th>\n",
       "      <td>3095.78</td>\n",
       "      <td>2465.14</td>\n",
       "      <td>2230.4222</td>\n",
       "      <td>1463.6606</td>\n",
       "      <td>0.8294</td>\n",
       "      <td>100.0</td>\n",
       "      <td>102.3433</td>\n",
       "      <td>0.1247</td>\n",
       "      <td>1.4966</td>\n",
       "      <td>-0.0005</td>\n",
       "      <td>...</td>\n",
       "      <td>0.009600</td>\n",
       "      <td>0.020100</td>\n",
       "      <td>0.006000</td>\n",
       "      <td>208.204500</td>\n",
       "      <td>-1</td>\n",
       "      <td>2008</td>\n",
       "      <td>7</td>\n",
       "      <td>19</td>\n",
       "      <td>5</td>\n",
       "      <td>201</td>\n",
       "    </tr>\n",
       "    <tr>\n",
       "      <th>2</th>\n",
       "      <td>2932.61</td>\n",
       "      <td>2559.94</td>\n",
       "      <td>2186.4111</td>\n",
       "      <td>1698.0172</td>\n",
       "      <td>1.5102</td>\n",
       "      <td>100.0</td>\n",
       "      <td>95.4878</td>\n",
       "      <td>0.1241</td>\n",
       "      <td>1.4436</td>\n",
       "      <td>0.0041</td>\n",
       "      <td>...</td>\n",
       "      <td>0.058400</td>\n",
       "      <td>0.048400</td>\n",
       "      <td>0.014800</td>\n",
       "      <td>82.860200</td>\n",
       "      <td>1</td>\n",
       "      <td>2008</td>\n",
       "      <td>7</td>\n",
       "      <td>19</td>\n",
       "      <td>5</td>\n",
       "      <td>201</td>\n",
       "    </tr>\n",
       "    <tr>\n",
       "      <th>3</th>\n",
       "      <td>2988.72</td>\n",
       "      <td>2479.90</td>\n",
       "      <td>2199.0333</td>\n",
       "      <td>909.7926</td>\n",
       "      <td>1.3204</td>\n",
       "      <td>100.0</td>\n",
       "      <td>104.2367</td>\n",
       "      <td>0.1217</td>\n",
       "      <td>1.4882</td>\n",
       "      <td>-0.0124</td>\n",
       "      <td>...</td>\n",
       "      <td>0.020200</td>\n",
       "      <td>0.014900</td>\n",
       "      <td>0.004400</td>\n",
       "      <td>73.843200</td>\n",
       "      <td>-1</td>\n",
       "      <td>2008</td>\n",
       "      <td>7</td>\n",
       "      <td>19</td>\n",
       "      <td>5</td>\n",
       "      <td>201</td>\n",
       "    </tr>\n",
       "    <tr>\n",
       "      <th>4</th>\n",
       "      <td>3032.24</td>\n",
       "      <td>2502.87</td>\n",
       "      <td>2233.3667</td>\n",
       "      <td>1326.5200</td>\n",
       "      <td>1.5334</td>\n",
       "      <td>100.0</td>\n",
       "      <td>100.3967</td>\n",
       "      <td>0.1235</td>\n",
       "      <td>1.5031</td>\n",
       "      <td>-0.0031</td>\n",
       "      <td>...</td>\n",
       "      <td>0.020200</td>\n",
       "      <td>0.014900</td>\n",
       "      <td>0.004400</td>\n",
       "      <td>73.843200</td>\n",
       "      <td>-1</td>\n",
       "      <td>2008</td>\n",
       "      <td>7</td>\n",
       "      <td>19</td>\n",
       "      <td>5</td>\n",
       "      <td>201</td>\n",
       "    </tr>\n",
       "  </tbody>\n",
       "</table>\n",
       "<p>5 rows × 596 columns</p>\n",
       "</div>"
      ],
      "text/plain": [
       "         0        1          2          3       4      5         6       7  \\\n",
       "0  3030.93  2564.00  2187.7333  1411.1265  1.3602  100.0   97.6133  0.1242   \n",
       "1  3095.78  2465.14  2230.4222  1463.6606  0.8294  100.0  102.3433  0.1247   \n",
       "2  2932.61  2559.94  2186.4111  1698.0172  1.5102  100.0   95.4878  0.1241   \n",
       "3  2988.72  2479.90  2199.0333   909.7926  1.3204  100.0  104.2367  0.1217   \n",
       "4  3032.24  2502.87  2233.3667  1326.5200  1.5334  100.0  100.3967  0.1235   \n",
       "\n",
       "        8       9  ...       586       587       588         589  Pass/Fail  \\\n",
       "0  1.5005  0.0162  ...  0.021458  0.016475  0.005283   99.670066         -1   \n",
       "1  1.4966 -0.0005  ...  0.009600  0.020100  0.006000  208.204500         -1   \n",
       "2  1.4436  0.0041  ...  0.058400  0.048400  0.014800   82.860200          1   \n",
       "3  1.4882 -0.0124  ...  0.020200  0.014900  0.004400   73.843200         -1   \n",
       "4  1.5031 -0.0031  ...  0.020200  0.014900  0.004400   73.843200         -1   \n",
       "\n",
       "   Year  Month  Day  DayOfWeek  DayOfYear  \n",
       "0  2008      7   19          5        201  \n",
       "1  2008      7   19          5        201  \n",
       "2  2008      7   19          5        201  \n",
       "3  2008      7   19          5        201  \n",
       "4  2008      7   19          5        201  \n",
       "\n",
       "[5 rows x 596 columns]"
      ]
     },
     "execution_count": 8,
     "metadata": {},
     "output_type": "execute_result"
    }
   ],
   "source": [
    "df1.head()"
   ]
  },
  {
   "cell_type": "code",
   "execution_count": 9,
   "id": "cd72e968",
   "metadata": {
    "execution": {
     "iopub.execute_input": "2021-09-09T08:25:09.284597Z",
     "iopub.status.busy": "2021-09-09T08:25:09.283959Z",
     "iopub.status.idle": "2021-09-09T08:25:09.446932Z",
     "shell.execute_reply": "2021-09-09T08:25:09.446377Z",
     "shell.execute_reply.started": "2021-09-09T05:49:01.336597Z"
    },
    "papermill": {
     "duration": 0.200332,
     "end_time": "2021-09-09T08:25:09.447086",
     "exception": false,
     "start_time": "2021-09-09T08:25:09.246754",
     "status": "completed"
    },
    "tags": []
   },
   "outputs": [
    {
     "name": "stdout",
     "output_type": "stream",
     "text": [
      "['5', '13', '42', '49', '52', '69', '97', '141', '149', '178', '179', '186', '189', '190', '191', '192', '193', '194', '226', '229', '230', '231', '232', '233', '234', '235', '236', '237', '240', '241', '242', '243', '256', '257', '258', '259', '260', '261', '262', '263', '264', '265', '266', '276', '284', '313', '314', '315', '322', '325', '326', '327', '328', '329', '330', '364', '369', '370', '371', '372', '373', '374', '375', '378', '379', '380', '381', '394', '395', '396', '397', '398', '399', '400', '401', '402', '403', '404', '414', '422', '449', '450', '451', '458', '461', '462', '463', '464', '465', '466', '481', '498', '501', '502', '503', '504', '505', '506', '507', '508', '509', '512', '513', '514', '515', '528', '529', '530', '531', '532', '533', '534', '535', '536', '537', '538', 'Year'] 117\n"
     ]
    }
   ],
   "source": [
    "#Find the features with one value\n",
    "features_with_one_value=[]\n",
    "for label,content in df1.items():\n",
    "    if df1[label].nunique()==1:\n",
    "        features_with_one_value.append(label)\n",
    "    \n",
    "print(features_with_one_value, len(features_with_one_value))\n",
    "        "
   ]
  },
  {
   "cell_type": "code",
   "execution_count": 10,
   "id": "439d7139",
   "metadata": {
    "execution": {
     "iopub.execute_input": "2021-09-09T08:25:09.517860Z",
     "iopub.status.busy": "2021-09-09T08:25:09.517192Z",
     "iopub.status.idle": "2021-09-09T08:25:09.896917Z",
     "shell.execute_reply": "2021-09-09T08:25:09.895697Z",
     "shell.execute_reply.started": "2021-09-09T05:49:01.494074Z"
    },
    "papermill": {
     "duration": 0.41732,
     "end_time": "2021-09-09T08:25:09.897101",
     "exception": false,
     "start_time": "2021-09-09T08:25:09.479781",
     "status": "completed"
    },
    "tags": []
   },
   "outputs": [],
   "source": [
    "#drop features with one value  \n",
    "for label,content in df1.items():\n",
    "    if df1[label].nunique()==1:\n",
    "        df1.drop(label, axis=1, inplace=True)"
   ]
  },
  {
   "cell_type": "code",
   "execution_count": 11,
   "id": "0ff8d192",
   "metadata": {
    "execution": {
     "iopub.execute_input": "2021-09-09T08:25:09.990614Z",
     "iopub.status.busy": "2021-09-09T08:25:09.985638Z",
     "iopub.status.idle": "2021-09-09T08:25:09.999587Z",
     "shell.execute_reply": "2021-09-09T08:25:10.000099Z",
     "shell.execute_reply.started": "2021-09-09T05:49:01.815358Z"
    },
    "papermill": {
     "duration": 0.069831,
     "end_time": "2021-09-09T08:25:10.000269",
     "exception": false,
     "start_time": "2021-09-09T08:25:09.930438",
     "status": "completed"
    },
    "tags": []
   },
   "outputs": [
    {
     "name": "stdout",
     "output_type": "stream",
     "text": [
      "<class 'pandas.core.frame.DataFrame'>\n",
      "RangeIndex: 1567 entries, 0 to 1566\n",
      "Columns: 479 entries, 0 to DayOfYear\n",
      "dtypes: float64(474), int64(5)\n",
      "memory usage: 5.7 MB\n"
     ]
    }
   ],
   "source": [
    "df1.info()"
   ]
  },
  {
   "cell_type": "code",
   "execution_count": 12,
   "id": "940e4d0d",
   "metadata": {
    "execution": {
     "iopub.execute_input": "2021-09-09T08:25:10.087678Z",
     "iopub.status.busy": "2021-09-09T08:25:10.077300Z",
     "iopub.status.idle": "2021-09-09T08:25:10.094862Z",
     "shell.execute_reply": "2021-09-09T08:25:10.095399Z",
     "shell.execute_reply.started": "2021-09-09T05:49:01.847954Z"
    },
    "papermill": {
     "duration": 0.062454,
     "end_time": "2021-09-09T08:25:10.095577",
     "exception": false,
     "start_time": "2021-09-09T08:25:10.033123",
     "status": "completed"
    },
    "tags": []
   },
   "outputs": [
    {
     "data": {
      "text/html": [
       "<div>\n",
       "<style scoped>\n",
       "    .dataframe tbody tr th:only-of-type {\n",
       "        vertical-align: middle;\n",
       "    }\n",
       "\n",
       "    .dataframe tbody tr th {\n",
       "        vertical-align: top;\n",
       "    }\n",
       "\n",
       "    .dataframe thead th {\n",
       "        text-align: right;\n",
       "    }\n",
       "</style>\n",
       "<table border=\"1\" class=\"dataframe\">\n",
       "  <thead>\n",
       "    <tr style=\"text-align: right;\">\n",
       "      <th></th>\n",
       "      <th>0</th>\n",
       "      <th>1</th>\n",
       "      <th>2</th>\n",
       "      <th>3</th>\n",
       "      <th>4</th>\n",
       "      <th>6</th>\n",
       "      <th>7</th>\n",
       "      <th>8</th>\n",
       "      <th>9</th>\n",
       "      <th>10</th>\n",
       "      <th>...</th>\n",
       "      <th>585</th>\n",
       "      <th>586</th>\n",
       "      <th>587</th>\n",
       "      <th>588</th>\n",
       "      <th>589</th>\n",
       "      <th>Pass/Fail</th>\n",
       "      <th>Month</th>\n",
       "      <th>Day</th>\n",
       "      <th>DayOfWeek</th>\n",
       "      <th>DayOfYear</th>\n",
       "    </tr>\n",
       "  </thead>\n",
       "  <tbody>\n",
       "    <tr>\n",
       "      <th>0</th>\n",
       "      <td>3030.93</td>\n",
       "      <td>2564.00</td>\n",
       "      <td>2187.7333</td>\n",
       "      <td>1411.1265</td>\n",
       "      <td>1.3602</td>\n",
       "      <td>97.6133</td>\n",
       "      <td>0.1242</td>\n",
       "      <td>1.5005</td>\n",
       "      <td>0.0162</td>\n",
       "      <td>-0.0034</td>\n",
       "      <td>...</td>\n",
       "      <td>2.3630</td>\n",
       "      <td>0.021458</td>\n",
       "      <td>0.016475</td>\n",
       "      <td>0.005283</td>\n",
       "      <td>99.670066</td>\n",
       "      <td>-1</td>\n",
       "      <td>7</td>\n",
       "      <td>19</td>\n",
       "      <td>5</td>\n",
       "      <td>201</td>\n",
       "    </tr>\n",
       "    <tr>\n",
       "      <th>1</th>\n",
       "      <td>3095.78</td>\n",
       "      <td>2465.14</td>\n",
       "      <td>2230.4222</td>\n",
       "      <td>1463.6606</td>\n",
       "      <td>0.8294</td>\n",
       "      <td>102.3433</td>\n",
       "      <td>0.1247</td>\n",
       "      <td>1.4966</td>\n",
       "      <td>-0.0005</td>\n",
       "      <td>-0.0148</td>\n",
       "      <td>...</td>\n",
       "      <td>4.4447</td>\n",
       "      <td>0.009600</td>\n",
       "      <td>0.020100</td>\n",
       "      <td>0.006000</td>\n",
       "      <td>208.204500</td>\n",
       "      <td>-1</td>\n",
       "      <td>7</td>\n",
       "      <td>19</td>\n",
       "      <td>5</td>\n",
       "      <td>201</td>\n",
       "    </tr>\n",
       "    <tr>\n",
       "      <th>2</th>\n",
       "      <td>2932.61</td>\n",
       "      <td>2559.94</td>\n",
       "      <td>2186.4111</td>\n",
       "      <td>1698.0172</td>\n",
       "      <td>1.5102</td>\n",
       "      <td>95.4878</td>\n",
       "      <td>0.1241</td>\n",
       "      <td>1.4436</td>\n",
       "      <td>0.0041</td>\n",
       "      <td>0.0013</td>\n",
       "      <td>...</td>\n",
       "      <td>3.1745</td>\n",
       "      <td>0.058400</td>\n",
       "      <td>0.048400</td>\n",
       "      <td>0.014800</td>\n",
       "      <td>82.860200</td>\n",
       "      <td>1</td>\n",
       "      <td>7</td>\n",
       "      <td>19</td>\n",
       "      <td>5</td>\n",
       "      <td>201</td>\n",
       "    </tr>\n",
       "    <tr>\n",
       "      <th>3</th>\n",
       "      <td>2988.72</td>\n",
       "      <td>2479.90</td>\n",
       "      <td>2199.0333</td>\n",
       "      <td>909.7926</td>\n",
       "      <td>1.3204</td>\n",
       "      <td>104.2367</td>\n",
       "      <td>0.1217</td>\n",
       "      <td>1.4882</td>\n",
       "      <td>-0.0124</td>\n",
       "      <td>-0.0033</td>\n",
       "      <td>...</td>\n",
       "      <td>2.0544</td>\n",
       "      <td>0.020200</td>\n",
       "      <td>0.014900</td>\n",
       "      <td>0.004400</td>\n",
       "      <td>73.843200</td>\n",
       "      <td>-1</td>\n",
       "      <td>7</td>\n",
       "      <td>19</td>\n",
       "      <td>5</td>\n",
       "      <td>201</td>\n",
       "    </tr>\n",
       "    <tr>\n",
       "      <th>4</th>\n",
       "      <td>3032.24</td>\n",
       "      <td>2502.87</td>\n",
       "      <td>2233.3667</td>\n",
       "      <td>1326.5200</td>\n",
       "      <td>1.5334</td>\n",
       "      <td>100.3967</td>\n",
       "      <td>0.1235</td>\n",
       "      <td>1.5031</td>\n",
       "      <td>-0.0031</td>\n",
       "      <td>-0.0072</td>\n",
       "      <td>...</td>\n",
       "      <td>99.3032</td>\n",
       "      <td>0.020200</td>\n",
       "      <td>0.014900</td>\n",
       "      <td>0.004400</td>\n",
       "      <td>73.843200</td>\n",
       "      <td>-1</td>\n",
       "      <td>7</td>\n",
       "      <td>19</td>\n",
       "      <td>5</td>\n",
       "      <td>201</td>\n",
       "    </tr>\n",
       "  </tbody>\n",
       "</table>\n",
       "<p>5 rows × 479 columns</p>\n",
       "</div>"
      ],
      "text/plain": [
       "         0        1          2          3       4         6       7       8  \\\n",
       "0  3030.93  2564.00  2187.7333  1411.1265  1.3602   97.6133  0.1242  1.5005   \n",
       "1  3095.78  2465.14  2230.4222  1463.6606  0.8294  102.3433  0.1247  1.4966   \n",
       "2  2932.61  2559.94  2186.4111  1698.0172  1.5102   95.4878  0.1241  1.4436   \n",
       "3  2988.72  2479.90  2199.0333   909.7926  1.3204  104.2367  0.1217  1.4882   \n",
       "4  3032.24  2502.87  2233.3667  1326.5200  1.5334  100.3967  0.1235  1.5031   \n",
       "\n",
       "        9      10  ...      585       586       587       588         589  \\\n",
       "0  0.0162 -0.0034  ...   2.3630  0.021458  0.016475  0.005283   99.670066   \n",
       "1 -0.0005 -0.0148  ...   4.4447  0.009600  0.020100  0.006000  208.204500   \n",
       "2  0.0041  0.0013  ...   3.1745  0.058400  0.048400  0.014800   82.860200   \n",
       "3 -0.0124 -0.0033  ...   2.0544  0.020200  0.014900  0.004400   73.843200   \n",
       "4 -0.0031 -0.0072  ...  99.3032  0.020200  0.014900  0.004400   73.843200   \n",
       "\n",
       "   Pass/Fail  Month  Day  DayOfWeek  DayOfYear  \n",
       "0         -1      7   19          5        201  \n",
       "1         -1      7   19          5        201  \n",
       "2          1      7   19          5        201  \n",
       "3         -1      7   19          5        201  \n",
       "4         -1      7   19          5        201  \n",
       "\n",
       "[5 rows x 479 columns]"
      ]
     },
     "execution_count": 12,
     "metadata": {},
     "output_type": "execute_result"
    }
   ],
   "source": [
    "df1.head()"
   ]
  },
  {
   "cell_type": "code",
   "execution_count": 13,
   "id": "79505cb3",
   "metadata": {
    "execution": {
     "iopub.execute_input": "2021-09-09T08:25:10.166079Z",
     "iopub.status.busy": "2021-09-09T08:25:10.165379Z",
     "iopub.status.idle": "2021-09-09T08:25:10.171873Z",
     "shell.execute_reply": "2021-09-09T08:25:10.172361Z",
     "shell.execute_reply.started": "2021-09-09T05:49:01.879542Z"
    },
    "papermill": {
     "duration": 0.043414,
     "end_time": "2021-09-09T08:25:10.172531",
     "exception": false,
     "start_time": "2021-09-09T08:25:10.129117",
     "status": "completed"
    },
    "tags": []
   },
   "outputs": [],
   "source": [
    "#Split data into X,y\n",
    "X = df1.drop(\"Pass/Fail\", axis=1)\n",
    "y = df1[\"Pass/Fail\"]"
   ]
  },
  {
   "cell_type": "markdown",
   "id": "37bdb0bd",
   "metadata": {
    "papermill": {
     "duration": 0.033185,
     "end_time": "2021-09-09T08:25:10.239595",
     "exception": false,
     "start_time": "2021-09-09T08:25:10.206410",
     "status": "completed"
    },
    "tags": []
   },
   "source": [
    "### Try to use Mutual Info to select most important features"
   ]
  },
  {
   "cell_type": "code",
   "execution_count": 14,
   "id": "d74d0e5d",
   "metadata": {
    "execution": {
     "iopub.execute_input": "2021-09-09T08:25:10.309882Z",
     "iopub.status.busy": "2021-09-09T08:25:10.308942Z",
     "iopub.status.idle": "2021-09-09T08:25:17.442592Z",
     "shell.execute_reply": "2021-09-09T08:25:17.442078Z",
     "shell.execute_reply.started": "2021-09-09T05:49:01.886986Z"
    },
    "papermill": {
     "duration": 7.169762,
     "end_time": "2021-09-09T08:25:17.442732",
     "exception": false,
     "start_time": "2021-09-09T08:25:10.272970",
     "status": "completed"
    },
    "tags": []
   },
   "outputs": [
    {
     "data": {
      "text/html": [
       "<div>\n",
       "<style scoped>\n",
       "    .dataframe tbody tr th:only-of-type {\n",
       "        vertical-align: middle;\n",
       "    }\n",
       "\n",
       "    .dataframe tbody tr th {\n",
       "        vertical-align: top;\n",
       "    }\n",
       "\n",
       "    .dataframe thead th {\n",
       "        text-align: right;\n",
       "    }\n",
       "</style>\n",
       "<table border=\"1\" class=\"dataframe\">\n",
       "  <thead>\n",
       "    <tr style=\"text-align: right;\">\n",
       "      <th></th>\n",
       "      <th>MI_Score</th>\n",
       "    </tr>\n",
       "  </thead>\n",
       "  <tbody>\n",
       "    <tr>\n",
       "      <th>443</th>\n",
       "      <td>0.031493</td>\n",
       "    </tr>\n",
       "    <tr>\n",
       "      <th>577</th>\n",
       "      <td>0.030345</td>\n",
       "    </tr>\n",
       "    <tr>\n",
       "      <th>406</th>\n",
       "      <td>0.029176</td>\n",
       "    </tr>\n",
       "    <tr>\n",
       "      <th>41</th>\n",
       "      <td>0.028798</td>\n",
       "    </tr>\n",
       "    <tr>\n",
       "      <th>128</th>\n",
       "      <td>0.027588</td>\n",
       "    </tr>\n",
       "    <tr>\n",
       "      <th>...</th>\n",
       "      <td>...</td>\n",
       "    </tr>\n",
       "    <tr>\n",
       "      <th>332</th>\n",
       "      <td>0.000000</td>\n",
       "    </tr>\n",
       "    <tr>\n",
       "      <th>335</th>\n",
       "      <td>0.000000</td>\n",
       "    </tr>\n",
       "    <tr>\n",
       "      <th>336</th>\n",
       "      <td>0.000000</td>\n",
       "    </tr>\n",
       "    <tr>\n",
       "      <th>337</th>\n",
       "      <td>0.000000</td>\n",
       "    </tr>\n",
       "    <tr>\n",
       "      <th>245</th>\n",
       "      <td>0.000000</td>\n",
       "    </tr>\n",
       "  </tbody>\n",
       "</table>\n",
       "<p>478 rows × 1 columns</p>\n",
       "</div>"
      ],
      "text/plain": [
       "     MI_Score\n",
       "443  0.031493\n",
       "577  0.030345\n",
       "406  0.029176\n",
       "41   0.028798\n",
       "128  0.027588\n",
       "..        ...\n",
       "332  0.000000\n",
       "335  0.000000\n",
       "336  0.000000\n",
       "337  0.000000\n",
       "245  0.000000\n",
       "\n",
       "[478 rows x 1 columns]"
      ]
     },
     "execution_count": 14,
     "metadata": {},
     "output_type": "execute_result"
    }
   ],
   "source": [
    "#Using mutual information classif to select important features\n",
    "importances = mutual_info_classif(X, y)\n",
    "f_importances = pd.Series(importances, df1.columns[0:len(df1.columns)-1])\n",
    "df_importances = pd.DataFrame(f_importances.sort_values()[::-1], columns=[\"MI_Score\"])\n",
    "df_importances"
   ]
  },
  {
   "cell_type": "code",
   "execution_count": 15,
   "id": "cfc57917",
   "metadata": {
    "execution": {
     "iopub.execute_input": "2021-09-09T08:25:17.516131Z",
     "iopub.status.busy": "2021-09-09T08:25:17.515391Z",
     "iopub.status.idle": "2021-09-09T08:25:18.201818Z",
     "shell.execute_reply": "2021-09-09T08:25:18.202319Z",
     "shell.execute_reply.started": "2021-09-09T05:49:08.244601Z"
    },
    "papermill": {
     "duration": 0.725756,
     "end_time": "2021-09-09T08:25:18.202480",
     "exception": false,
     "start_time": "2021-09-09T08:25:17.476724",
     "status": "completed"
    },
    "tags": []
   },
   "outputs": [
    {
     "data": {
      "image/png": "[encoded data removed]",
      "text/plain": [
       "<Figure size 1296x792 with 1 Axes>"
      ]
     },
     "metadata": {
      "needs_background": "light"
     },
     "output_type": "display_data"
    }
   ],
   "source": [
    "#visualize top 50 MI Score\n",
    "df_importances[:50].plot(kind=\"barh\", color=\"salmon\", figsize=(18,11), title=(\"Top 50 MI score of features\"));"
   ]
  },
  {
   "cell_type": "code",
   "execution_count": 16,
   "id": "8c34ffb4",
   "metadata": {
    "execution": {
     "iopub.execute_input": "2021-09-09T08:25:18.280399Z",
     "iopub.status.busy": "2021-09-09T08:25:18.279674Z",
     "iopub.status.idle": "2021-09-09T08:25:18.291718Z",
     "shell.execute_reply": "2021-09-09T08:25:18.291232Z",
     "shell.execute_reply.started": "2021-09-09T05:49:08.886703Z"
    },
    "papermill": {
     "duration": 0.053827,
     "end_time": "2021-09-09T08:25:18.291869",
     "exception": false,
     "start_time": "2021-09-09T08:25:18.238042",
     "status": "completed"
    },
    "tags": []
   },
   "outputs": [
    {
     "data": {
      "text/html": [
       "<div>\n",
       "<style scoped>\n",
       "    .dataframe tbody tr th:only-of-type {\n",
       "        vertical-align: middle;\n",
       "    }\n",
       "\n",
       "    .dataframe tbody tr th {\n",
       "        vertical-align: top;\n",
       "    }\n",
       "\n",
       "    .dataframe thead th {\n",
       "        text-align: right;\n",
       "    }\n",
       "</style>\n",
       "<table border=\"1\" class=\"dataframe\">\n",
       "  <thead>\n",
       "    <tr style=\"text-align: right;\">\n",
       "      <th></th>\n",
       "      <th>MI_Score</th>\n",
       "    </tr>\n",
       "  </thead>\n",
       "  <tbody>\n",
       "    <tr>\n",
       "      <th>count</th>\n",
       "      <td>478.000000</td>\n",
       "    </tr>\n",
       "    <tr>\n",
       "      <th>mean</th>\n",
       "      <td>0.005775</td>\n",
       "    </tr>\n",
       "    <tr>\n",
       "      <th>std</th>\n",
       "      <td>0.006959</td>\n",
       "    </tr>\n",
       "    <tr>\n",
       "      <th>min</th>\n",
       "      <td>0.000000</td>\n",
       "    </tr>\n",
       "    <tr>\n",
       "      <th>25%</th>\n",
       "      <td>0.000000</td>\n",
       "    </tr>\n",
       "    <tr>\n",
       "      <th>50%</th>\n",
       "      <td>0.002922</td>\n",
       "    </tr>\n",
       "    <tr>\n",
       "      <th>75%</th>\n",
       "      <td>0.009991</td>\n",
       "    </tr>\n",
       "    <tr>\n",
       "      <th>max</th>\n",
       "      <td>0.031493</td>\n",
       "    </tr>\n",
       "  </tbody>\n",
       "</table>\n",
       "</div>"
      ],
      "text/plain": [
       "         MI_Score\n",
       "count  478.000000\n",
       "mean     0.005775\n",
       "std      0.006959\n",
       "min      0.000000\n",
       "25%      0.000000\n",
       "50%      0.002922\n",
       "75%      0.009991\n",
       "max      0.031493"
      ]
     },
     "execution_count": 16,
     "metadata": {},
     "output_type": "execute_result"
    }
   ],
   "source": [
    "df_importances.describe()"
   ]
  },
  {
   "cell_type": "code",
   "execution_count": 17,
   "id": "ba8f9b19",
   "metadata": {
    "execution": {
     "iopub.execute_input": "2021-09-09T08:25:18.369316Z",
     "iopub.status.busy": "2021-09-09T08:25:18.368487Z",
     "iopub.status.idle": "2021-09-09T08:25:18.388389Z",
     "shell.execute_reply": "2021-09-09T08:25:18.387753Z",
     "shell.execute_reply.started": "2021-09-09T05:49:08.903954Z"
    },
    "papermill": {
     "duration": 0.060605,
     "end_time": "2021-09-09T08:25:18.388527",
     "exception": false,
     "start_time": "2021-09-09T08:25:18.327922",
     "status": "completed"
    },
    "tags": []
   },
   "outputs": [],
   "source": [
    "#Let's drop features with MI score = 0\n",
    "drop_list = df_importances.index[df_importances['MI_Score'] == 0].tolist()\n",
    "f_importances.drop(drop_list, inplace=True)"
   ]
  },
  {
   "cell_type": "markdown",
   "id": "7290eb56",
   "metadata": {
    "papermill": {
     "duration": 0.035182,
     "end_time": "2021-09-09T08:25:18.459529",
     "exception": false,
     "start_time": "2021-09-09T08:25:18.424347",
     "status": "completed"
    },
    "tags": []
   },
   "source": [
    "### Try to add cluster as feature by using KMeans"
   ]
  },
  {
   "cell_type": "code",
   "execution_count": 18,
   "id": "5f25529a",
   "metadata": {
    "execution": {
     "iopub.execute_input": "2021-09-09T08:25:18.543310Z",
     "iopub.status.busy": "2021-09-09T08:25:18.542195Z",
     "iopub.status.idle": "2021-09-09T08:25:38.912216Z",
     "shell.execute_reply": "2021-09-09T08:25:38.912897Z",
     "shell.execute_reply.started": "2021-09-09T05:49:08.922695Z"
    },
    "papermill": {
     "duration": 20.417983,
     "end_time": "2021-09-09T08:25:38.913083",
     "exception": false,
     "start_time": "2021-09-09T08:25:18.495100",
     "status": "completed"
    },
    "tags": []
   },
   "outputs": [
    {
     "data": {
      "image/png": "[encoded data removed]",
      "text/plain": [
       "<Figure size 1080x432 with 1 Axes>"
      ]
     },
     "metadata": {
      "needs_background": "light"
     },
     "output_type": "display_data"
    }
   ],
   "source": [
    "#Using Elbow Method to determine suitable number of clusters\n",
    "inertia = []\n",
    "K = range(1,10)\n",
    "for k in K:\n",
    "    kmeanModel = KMeans(n_clusters=k)\n",
    "    kmeanModel.fit(X)\n",
    "    inertia.append(kmeanModel.inertia_)\n",
    "plt.figure(figsize=(15,6))\n",
    "plt.plot(K, inertia, 'bx-')\n",
    "plt.xlabel('Number of Clusters (k)')\n",
    "plt.ylabel('Inertia')\n",
    "plt.show()"
   ]
  },
  {
   "cell_type": "markdown",
   "id": "a286390a",
   "metadata": {
    "papermill": {
     "duration": 0.044112,
     "end_time": "2021-09-09T08:25:39.001794",
     "exception": false,
     "start_time": "2021-09-09T08:25:38.957682",
     "status": "completed"
    },
    "tags": []
   },
   "source": [
    "* Choosing 2 as number of clusters"
   ]
  },
  {
   "cell_type": "code",
   "execution_count": 19,
   "id": "daba31e8",
   "metadata": {
    "execution": {
     "iopub.execute_input": "2021-09-09T08:25:39.097131Z",
     "iopub.status.busy": "2021-09-09T08:25:39.096415Z",
     "iopub.status.idle": "2021-09-09T08:25:40.512808Z",
     "shell.execute_reply": "2021-09-09T08:25:40.513394Z",
     "shell.execute_reply.started": "2021-09-09T05:49:30.560939Z"
    },
    "papermill": {
     "duration": 1.467007,
     "end_time": "2021-09-09T08:25:40.513578",
     "exception": false,
     "start_time": "2021-09-09T08:25:39.046571",
     "status": "completed"
    },
    "tags": []
   },
   "outputs": [
    {
     "data": {
      "text/html": [
       "<div>\n",
       "<style scoped>\n",
       "    .dataframe tbody tr th:only-of-type {\n",
       "        vertical-align: middle;\n",
       "    }\n",
       "\n",
       "    .dataframe tbody tr th {\n",
       "        vertical-align: top;\n",
       "    }\n",
       "\n",
       "    .dataframe thead th {\n",
       "        text-align: right;\n",
       "    }\n",
       "</style>\n",
       "<table border=\"1\" class=\"dataframe\">\n",
       "  <thead>\n",
       "    <tr style=\"text-align: right;\">\n",
       "      <th></th>\n",
       "      <th>0</th>\n",
       "      <th>1</th>\n",
       "      <th>2</th>\n",
       "      <th>3</th>\n",
       "      <th>4</th>\n",
       "      <th>6</th>\n",
       "      <th>7</th>\n",
       "      <th>8</th>\n",
       "      <th>9</th>\n",
       "      <th>10</th>\n",
       "      <th>...</th>\n",
       "      <th>585</th>\n",
       "      <th>586</th>\n",
       "      <th>587</th>\n",
       "      <th>588</th>\n",
       "      <th>589</th>\n",
       "      <th>Month</th>\n",
       "      <th>Day</th>\n",
       "      <th>DayOfWeek</th>\n",
       "      <th>DayOfYear</th>\n",
       "      <th>Cluster</th>\n",
       "    </tr>\n",
       "  </thead>\n",
       "  <tbody>\n",
       "    <tr>\n",
       "      <th>0</th>\n",
       "      <td>3030.93</td>\n",
       "      <td>2564.00</td>\n",
       "      <td>2187.7333</td>\n",
       "      <td>1411.1265</td>\n",
       "      <td>1.3602</td>\n",
       "      <td>97.6133</td>\n",
       "      <td>0.1242</td>\n",
       "      <td>1.5005</td>\n",
       "      <td>0.0162</td>\n",
       "      <td>-0.0034</td>\n",
       "      <td>...</td>\n",
       "      <td>2.3630</td>\n",
       "      <td>0.021458</td>\n",
       "      <td>0.016475</td>\n",
       "      <td>0.005283</td>\n",
       "      <td>99.670066</td>\n",
       "      <td>7</td>\n",
       "      <td>19</td>\n",
       "      <td>5</td>\n",
       "      <td>201</td>\n",
       "      <td>0</td>\n",
       "    </tr>\n",
       "    <tr>\n",
       "      <th>1</th>\n",
       "      <td>3095.78</td>\n",
       "      <td>2465.14</td>\n",
       "      <td>2230.4222</td>\n",
       "      <td>1463.6606</td>\n",
       "      <td>0.8294</td>\n",
       "      <td>102.3433</td>\n",
       "      <td>0.1247</td>\n",
       "      <td>1.4966</td>\n",
       "      <td>-0.0005</td>\n",
       "      <td>-0.0148</td>\n",
       "      <td>...</td>\n",
       "      <td>4.4447</td>\n",
       "      <td>0.009600</td>\n",
       "      <td>0.020100</td>\n",
       "      <td>0.006000</td>\n",
       "      <td>208.204500</td>\n",
       "      <td>7</td>\n",
       "      <td>19</td>\n",
       "      <td>5</td>\n",
       "      <td>201</td>\n",
       "      <td>0</td>\n",
       "    </tr>\n",
       "    <tr>\n",
       "      <th>2</th>\n",
       "      <td>2932.61</td>\n",
       "      <td>2559.94</td>\n",
       "      <td>2186.4111</td>\n",
       "      <td>1698.0172</td>\n",
       "      <td>1.5102</td>\n",
       "      <td>95.4878</td>\n",
       "      <td>0.1241</td>\n",
       "      <td>1.4436</td>\n",
       "      <td>0.0041</td>\n",
       "      <td>0.0013</td>\n",
       "      <td>...</td>\n",
       "      <td>3.1745</td>\n",
       "      <td>0.058400</td>\n",
       "      <td>0.048400</td>\n",
       "      <td>0.014800</td>\n",
       "      <td>82.860200</td>\n",
       "      <td>7</td>\n",
       "      <td>19</td>\n",
       "      <td>5</td>\n",
       "      <td>201</td>\n",
       "      <td>0</td>\n",
       "    </tr>\n",
       "    <tr>\n",
       "      <th>3</th>\n",
       "      <td>2988.72</td>\n",
       "      <td>2479.90</td>\n",
       "      <td>2199.0333</td>\n",
       "      <td>909.7926</td>\n",
       "      <td>1.3204</td>\n",
       "      <td>104.2367</td>\n",
       "      <td>0.1217</td>\n",
       "      <td>1.4882</td>\n",
       "      <td>-0.0124</td>\n",
       "      <td>-0.0033</td>\n",
       "      <td>...</td>\n",
       "      <td>2.0544</td>\n",
       "      <td>0.020200</td>\n",
       "      <td>0.014900</td>\n",
       "      <td>0.004400</td>\n",
       "      <td>73.843200</td>\n",
       "      <td>7</td>\n",
       "      <td>19</td>\n",
       "      <td>5</td>\n",
       "      <td>201</td>\n",
       "      <td>0</td>\n",
       "    </tr>\n",
       "    <tr>\n",
       "      <th>4</th>\n",
       "      <td>3032.24</td>\n",
       "      <td>2502.87</td>\n",
       "      <td>2233.3667</td>\n",
       "      <td>1326.5200</td>\n",
       "      <td>1.5334</td>\n",
       "      <td>100.3967</td>\n",
       "      <td>0.1235</td>\n",
       "      <td>1.5031</td>\n",
       "      <td>-0.0031</td>\n",
       "      <td>-0.0072</td>\n",
       "      <td>...</td>\n",
       "      <td>99.3032</td>\n",
       "      <td>0.020200</td>\n",
       "      <td>0.014900</td>\n",
       "      <td>0.004400</td>\n",
       "      <td>73.843200</td>\n",
       "      <td>7</td>\n",
       "      <td>19</td>\n",
       "      <td>5</td>\n",
       "      <td>201</td>\n",
       "      <td>0</td>\n",
       "    </tr>\n",
       "  </tbody>\n",
       "</table>\n",
       "<p>5 rows × 479 columns</p>\n",
       "</div>"
      ],
      "text/plain": [
       "         0        1          2          3       4         6       7       8  \\\n",
       "0  3030.93  2564.00  2187.7333  1411.1265  1.3602   97.6133  0.1242  1.5005   \n",
       "1  3095.78  2465.14  2230.4222  1463.6606  0.8294  102.3433  0.1247  1.4966   \n",
       "2  2932.61  2559.94  2186.4111  1698.0172  1.5102   95.4878  0.1241  1.4436   \n",
       "3  2988.72  2479.90  2199.0333   909.7926  1.3204  104.2367  0.1217  1.4882   \n",
       "4  3032.24  2502.87  2233.3667  1326.5200  1.5334  100.3967  0.1235  1.5031   \n",
       "\n",
       "        9      10  ...      585       586       587       588         589  \\\n",
       "0  0.0162 -0.0034  ...   2.3630  0.021458  0.016475  0.005283   99.670066   \n",
       "1 -0.0005 -0.0148  ...   4.4447  0.009600  0.020100  0.006000  208.204500   \n",
       "2  0.0041  0.0013  ...   3.1745  0.058400  0.048400  0.014800   82.860200   \n",
       "3 -0.0124 -0.0033  ...   2.0544  0.020200  0.014900  0.004400   73.843200   \n",
       "4 -0.0031 -0.0072  ...  99.3032  0.020200  0.014900  0.004400   73.843200   \n",
       "\n",
       "   Month  Day  DayOfWeek  DayOfYear  Cluster  \n",
       "0      7   19          5        201        0  \n",
       "1      7   19          5        201        0  \n",
       "2      7   19          5        201        0  \n",
       "3      7   19          5        201        0  \n",
       "4      7   19          5        201        0  \n",
       "\n",
       "[5 rows x 479 columns]"
      ]
     },
     "execution_count": 19,
     "metadata": {},
     "output_type": "execute_result"
    }
   ],
   "source": [
    "# Create cluster feature\n",
    "kmeans = KMeans(n_clusters=2)\n",
    "X[\"Cluster\"] = kmeans.fit_predict(X)\n",
    "X[\"Cluster\"] = X[\"Cluster\"].astype(\"category\")\n",
    "\n",
    "X.head()"
   ]
  },
  {
   "cell_type": "markdown",
   "id": "165d8c81",
   "metadata": {
    "papermill": {
     "duration": 0.04488,
     "end_time": "2021-09-09T08:25:40.603788",
     "exception": false,
     "start_time": "2021-09-09T08:25:40.558908",
     "status": "completed"
    },
    "tags": []
   },
   "source": [
    "# Train Model\n",
    "### using :\n",
    "* RandomForestClassifier\n",
    "* KNN\n",
    "* DecisionTreeClassifier\n",
    "* SVM"
   ]
  },
  {
   "cell_type": "code",
   "execution_count": 20,
   "id": "18b7f820",
   "metadata": {
    "execution": {
     "iopub.execute_input": "2021-09-09T08:25:40.701399Z",
     "iopub.status.busy": "2021-09-09T08:25:40.700572Z",
     "iopub.status.idle": "2021-09-09T08:25:40.702599Z",
     "shell.execute_reply": "2021-09-09T08:25:40.702030Z",
     "shell.execute_reply.started": "2021-09-09T05:49:31.88687Z"
    },
    "papermill": {
     "duration": 0.053801,
     "end_time": "2021-09-09T08:25:40.702740",
     "exception": false,
     "start_time": "2021-09-09T08:25:40.648939",
     "status": "completed"
    },
    "tags": []
   },
   "outputs": [],
   "source": [
    "#preparing the models\n",
    "models={\"RandomForestClassifier\":RandomForestClassifier(),\n",
    "       \"KNN\":KNeighborsClassifier(),\n",
    "       \"DecisionTreeClassifier\":tree.DecisionTreeClassifier(),\n",
    "       \"svm\":svm.SVC()}"
   ]
  },
  {
   "cell_type": "code",
   "execution_count": 21,
   "id": "def89a7d",
   "metadata": {
    "execution": {
     "iopub.execute_input": "2021-09-09T08:25:40.811561Z",
     "iopub.status.busy": "2021-09-09T08:25:40.810823Z",
     "iopub.status.idle": "2021-09-09T08:25:45.984065Z",
     "shell.execute_reply": "2021-09-09T08:25:45.982458Z",
     "shell.execute_reply.started": "2021-09-09T05:49:31.893588Z"
    },
    "papermill": {
     "duration": 5.236538,
     "end_time": "2021-09-09T08:25:45.984233",
     "exception": false,
     "start_time": "2021-09-09T08:25:40.747695",
     "status": "completed"
    },
    "tags": []
   },
   "outputs": [
    {
     "data": {
      "text/plain": [
       "{'RandomForestClassifier': 0.9554140127388535,\n",
       " 'KNN': 0.9522292993630573,\n",
       " 'DecisionTreeClassifier': 0.8789808917197452,\n",
       " 'svm': 0.9554140127388535}"
      ]
     },
     "execution_count": 21,
     "metadata": {},
     "output_type": "execute_result"
    }
   ],
   "source": [
    "#Split data to train and test parts\n",
    "scaler = StandardScaler()\n",
    "scaled_data = scaler.fit_transform(X)\n",
    "X_train , X_test, y_train, y_test = train_test_split(scaled_data,\n",
    "                                                    y,\n",
    "                                                    test_size=0.2,\n",
    "                                                    random_state=160)\n",
    "\n",
    "np.random.seed(42)\n",
    "\n",
    "#fitting the models and compare their metrics\n",
    "scores={}\n",
    "for name,model in models.items():\n",
    "    clf=model.fit(X_train,y_train)\n",
    "    scores[name]=clf.score(X_test,y_test)\n",
    "    \n",
    "scores"
   ]
  },
  {
   "cell_type": "markdown",
   "id": "5d7cae94",
   "metadata": {
    "papermill": {
     "duration": 0.038762,
     "end_time": "2021-09-09T08:25:46.062385",
     "exception": false,
     "start_time": "2021-09-09T08:25:46.023623",
     "status": "completed"
    },
    "tags": []
   },
   "source": [
    "* Choosing RandomForestClassification to tune hyperprameters"
   ]
  },
  {
   "cell_type": "markdown",
   "id": "a4dbf696",
   "metadata": {
    "papermill": {
     "duration": 0.03925,
     "end_time": "2021-09-09T08:25:46.140798",
     "exception": false,
     "start_time": "2021-09-09T08:25:46.101548",
     "status": "completed"
    },
    "tags": []
   },
   "source": [
    "# Tunning The Hyperprameters"
   ]
  },
  {
   "cell_type": "code",
   "execution_count": 22,
   "id": "d4be3d02",
   "metadata": {
    "execution": {
     "iopub.execute_input": "2021-09-09T08:25:46.232666Z",
     "iopub.status.busy": "2021-09-09T08:25:46.231235Z",
     "iopub.status.idle": "2021-09-09T09:07:38.610918Z",
     "shell.execute_reply": "2021-09-09T09:07:38.611427Z",
     "shell.execute_reply.started": "2021-09-09T05:56:44.975693Z"
    },
    "papermill": {
     "duration": 2512.431093,
     "end_time": "2021-09-09T09:07:38.611600",
     "exception": false,
     "start_time": "2021-09-09T08:25:46.180507",
     "status": "completed"
    },
    "tags": []
   },
   "outputs": [
    {
     "name": "stdout",
     "output_type": "stream",
     "text": [
      "Fitting 5 folds for each of 30 candidates, totalling 150 fits\n"
     ]
    },
    {
     "name": "stderr",
     "output_type": "stream",
     "text": [
      "[Parallel(n_jobs=1)]: Using backend SequentialBackend with 1 concurrent workers.\n",
      "[Parallel(n_jobs=1)]: Done 150 out of 150 | elapsed: 41.2min finished\n"
     ]
    },
    {
     "data": {
      "text/plain": [
       "RandomizedSearchCV(cv=5, estimator=RandomForestClassifier(), n_iter=30,\n",
       "                   param_distributions={'bootstrap': [True, False],\n",
       "                                        'max_depth': [10, 20, 30, 40, 50, 60,\n",
       "                                                      70, 80, 90, 100, None],\n",
       "                                        'min_samples_leaf': array([1, 3, 5, 7, 9]),\n",
       "                                        'min_samples_split': array([ 2,  4,  6,  8, 10, 12, 14, 16, 18]),\n",
       "                                        'n_estimators': array([  10,   20,   30,   40,   50,   60,   70,   80,   90,  100,  110,\n",
       "        120,  130,  140,  150,  160,  170,  180,  190,  200,  21...\n",
       "       1330, 1340, 1350, 1360, 1370, 1380, 1390, 1400, 1410, 1420, 1430,\n",
       "       1440, 1450, 1460, 1470, 1480, 1490, 1500, 1510, 1520, 1530, 1540,\n",
       "       1550, 1560, 1570, 1580, 1590, 1600, 1610, 1620, 1630, 1640, 1650,\n",
       "       1660, 1670, 1680, 1690, 1700, 1710, 1720, 1730, 1740, 1750, 1760,\n",
       "       1770, 1780, 1790, 1800, 1810, 1820, 1830, 1840, 1850, 1860, 1870,\n",
       "       1880, 1890, 1900, 1910, 1920, 1930, 1940, 1950, 1960, 1970, 1980,\n",
       "       1990])},\n",
       "                   verbose=True)"
      ]
     },
     "execution_count": 22,
     "metadata": {},
     "output_type": "execute_result"
    }
   ],
   "source": [
    "### Tuning Hyperprameters : RandomForestClassifier\n",
    "\n",
    "rfc_grid={\"n_estimators\":np.arange(10,2000,10),\n",
    "         \"max_depth\":[10, 20, 30, 40, 50, 60, 70, 80, 90, 100, None],\n",
    "         \"min_samples_split\":np.arange(2,20,2),\n",
    "         \"min_samples_leaf\":np.arange(1,10,2),\n",
    "         \"min_samples_split\":np.arange(2,20,2),\n",
    "         \"bootstrap\":[True,False]}\n",
    "\n",
    "rfc_mdl=RandomizedSearchCV(estimator=RandomForestClassifier(),\n",
    "                          param_distributions=rfc_grid,\n",
    "                          n_iter=30,\n",
    "                          cv=5,\n",
    "                          verbose=True)\n",
    "\n",
    "rfc_mdl.fit(X_train, y_train)"
   ]
  },
  {
   "cell_type": "code",
   "execution_count": 23,
   "id": "d7a373da",
   "metadata": {
    "execution": {
     "iopub.execute_input": "2021-09-09T09:07:38.695536Z",
     "iopub.status.busy": "2021-09-09T09:07:38.694915Z",
     "iopub.status.idle": "2021-09-09T09:07:38.697928Z",
     "shell.execute_reply": "2021-09-09T09:07:38.698424Z",
     "shell.execute_reply.started": "2021-09-09T06:51:52.069523Z"
    },
    "papermill": {
     "duration": 0.047589,
     "end_time": "2021-09-09T09:07:38.698581",
     "exception": false,
     "start_time": "2021-09-09T09:07:38.650992",
     "status": "completed"
    },
    "tags": []
   },
   "outputs": [
    {
     "data": {
      "text/plain": [
       "{'n_estimators': 1580,\n",
       " 'min_samples_split': 16,\n",
       " 'min_samples_leaf': 9,\n",
       " 'max_depth': None,\n",
       " 'bootstrap': False}"
      ]
     },
     "execution_count": 23,
     "metadata": {},
     "output_type": "execute_result"
    }
   ],
   "source": [
    "rfc_mdl.best_params_"
   ]
  },
  {
   "cell_type": "code",
   "execution_count": 24,
   "id": "a4953b13",
   "metadata": {
    "execution": {
     "iopub.execute_input": "2021-09-09T09:07:38.781105Z",
     "iopub.status.busy": "2021-09-09T09:07:38.780507Z",
     "iopub.status.idle": "2021-09-09T09:07:38.997902Z",
     "shell.execute_reply": "2021-09-09T09:07:38.998399Z",
     "shell.execute_reply.started": "2021-09-09T06:51:54.31973Z"
    },
    "papermill": {
     "duration": 0.260224,
     "end_time": "2021-09-09T09:07:38.998560",
     "exception": false,
     "start_time": "2021-09-09T09:07:38.738336",
     "status": "completed"
    },
    "tags": []
   },
   "outputs": [
    {
     "data": {
      "text/plain": [
       "0.9554140127388535"
      ]
     },
     "execution_count": 24,
     "metadata": {},
     "output_type": "execute_result"
    }
   ],
   "source": [
    "rfc_mdl.score(X_test,y_test)"
   ]
  },
  {
   "cell_type": "markdown",
   "id": "d4c6ea0e",
   "metadata": {
    "papermill": {
     "duration": 0.040542,
     "end_time": "2021-09-09T09:07:39.079986",
     "exception": false,
     "start_time": "2021-09-09T09:07:39.039444",
     "status": "completed"
    },
    "tags": []
   },
   "source": [
    "# Model Evaluation"
   ]
  },
  {
   "cell_type": "code",
   "execution_count": 25,
   "id": "8b298a54",
   "metadata": {
    "execution": {
     "iopub.execute_input": "2021-09-09T09:07:39.162176Z",
     "iopub.status.busy": "2021-09-09T09:07:39.161489Z",
     "iopub.status.idle": "2021-09-09T09:07:39.167482Z",
     "shell.execute_reply": "2021-09-09T09:07:39.168002Z",
     "shell.execute_reply.started": "2021-09-09T07:15:58.246694Z"
    },
    "papermill": {
     "duration": 0.048612,
     "end_time": "2021-09-09T09:07:39.168163",
     "exception": false,
     "start_time": "2021-09-09T09:07:39.119551",
     "status": "completed"
    },
    "tags": []
   },
   "outputs": [],
   "source": [
    "#preparing evaluate_model function\n",
    "def evaluate_model(model):\n",
    "    y_pred=model.predict(X_test)\n",
    "    y_true=y_test\n",
    "    \n",
    "    scores={\n",
    "        \"Precision\":\"{:.2f}\".format(precision_score(y_true, y_pred, zero_division=0)*100),\n",
    "        \"Recall\":\"{:.2f}\".format(recall_score(y_true, y_pred)*100),\n",
    "        \"f1\":\"{:.2f}\".format(f1_score(y_true, y_pred)*100),\n",
    "        \"Accuracy\":\"{:.2f}\".format(accuracy_score(y_true, y_pred)*100)}\n",
    "    \n",
    "    plot_confusion_matrix(model,\n",
    "                         X_test,\n",
    "                         y_test)\n",
    "    \n",
    "    plot_roc_curve(model,\n",
    "                  X_test,\n",
    "                  y_test);\n",
    "    \n",
    "    return scores"
   ]
  },
  {
   "cell_type": "code",
   "execution_count": 26,
   "id": "b8f82fd5",
   "metadata": {
    "execution": {
     "iopub.execute_input": "2021-09-09T09:07:39.250516Z",
     "iopub.status.busy": "2021-09-09T09:07:39.249875Z",
     "iopub.status.idle": "2021-09-09T09:07:40.287898Z",
     "shell.execute_reply": "2021-09-09T09:07:40.287213Z",
     "shell.execute_reply.started": "2021-09-09T07:16:00.101375Z"
    },
    "papermill": {
     "duration": 1.080041,
     "end_time": "2021-09-09T09:07:40.288038",
     "exception": false,
     "start_time": "2021-09-09T09:07:39.207997",
     "status": "completed"
    },
    "tags": []
   },
   "outputs": [
    {
     "data": {
      "text/plain": [
       "{'Precision': '0.00', 'Recall': '0.00', 'f1': '0.00', 'Accuracy': '95.54'}"
      ]
     },
     "execution_count": 26,
     "metadata": {},
     "output_type": "execute_result"
    },
    {
     "data": {
      "image/png": "[encoded data removed]",
      "text/plain": [
       "<Figure size 432x288 with 2 Axes>"
      ]
     },
     "metadata": {
      "needs_background": "light"
     },
     "output_type": "display_data"
    },
    {
     "data": {
      "image/png": "[encoded data removed]",
      "text/plain": [
       "<Figure size 432x288 with 1 Axes>"
      ]
     },
     "metadata": {
      "needs_background": "light"
     },
     "output_type": "display_data"
    }
   ],
   "source": [
    "evaluate_model(rfc_mdl)"
   ]
  },
  {
   "cell_type": "markdown",
   "id": "0412f02a",
   "metadata": {
    "papermill": {
     "duration": 0.044401,
     "end_time": "2021-09-09T09:07:40.378354",
     "exception": false,
     "start_time": "2021-09-09T09:07:40.333953",
     "status": "completed"
    },
    "tags": []
   },
   "source": [
    "* Wow! This dataset is too imbalanced! So Let's try MCC to evaluate."
   ]
  },
  {
   "cell_type": "code",
   "execution_count": 27,
   "id": "a383ebd5",
   "metadata": {
    "execution": {
     "iopub.execute_input": "2021-09-09T09:07:40.470396Z",
     "iopub.status.busy": "2021-09-09T09:07:40.469377Z",
     "iopub.status.idle": "2021-09-09T09:07:40.702617Z",
     "shell.execute_reply": "2021-09-09T09:07:40.702107Z",
     "shell.execute_reply.started": "2021-09-09T07:46:24.508182Z"
    },
    "papermill": {
     "duration": 0.281334,
     "end_time": "2021-09-09T09:07:40.702768",
     "exception": false,
     "start_time": "2021-09-09T09:07:40.421434",
     "status": "completed"
    },
    "tags": []
   },
   "outputs": [
    {
     "name": "stderr",
     "output_type": "stream",
     "text": [
      "/opt/conda/lib/python3.7/site-packages/sklearn/metrics/_classification.py:846: RuntimeWarning: invalid value encountered in double_scalars\n",
      "  mcc = cov_ytyp / np.sqrt(cov_ytyt * cov_ypyp)\n"
     ]
    },
    {
     "data": {
      "text/plain": [
       "0.0"
      ]
     },
     "execution_count": 27,
     "metadata": {},
     "output_type": "execute_result"
    }
   ],
   "source": [
    "from sklearn.metrics import matthews_corrcoef\n",
    "matthews_corrcoef(y_test, rfc_mdl.predict(X_test))"
   ]
  },
  {
   "cell_type": "markdown",
   "id": "89831635",
   "metadata": {
    "papermill": {
     "duration": 0.042711,
     "end_time": "2021-09-09T09:07:40.788479",
     "exception": false,
     "start_time": "2021-09-09T09:07:40.745768",
     "status": "completed"
    },
    "tags": []
   },
   "source": [
    "* I really get confused with this imbalanced dataset! :|"
   ]
  },
  {
   "cell_type": "code",
   "execution_count": 28,
   "id": "7e2882ca",
   "metadata": {
    "execution": {
     "iopub.execute_input": "2021-09-09T09:07:40.958917Z",
     "iopub.status.busy": "2021-09-09T09:07:40.921563Z",
     "iopub.status.idle": "2021-09-09T09:07:41.001503Z",
     "shell.execute_reply": "2021-09-09T09:07:41.002072Z",
     "shell.execute_reply.started": "2021-09-09T07:51:07.551278Z"
    },
    "papermill": {
     "duration": 0.170321,
     "end_time": "2021-09-09T09:07:41.002285",
     "exception": false,
     "start_time": "2021-09-09T09:07:40.831964",
     "status": "completed"
    },
    "tags": []
   },
   "outputs": [],
   "source": [
    "import pickle\n",
    "pickle.dump(rfc_mdl, open(\"Rfc.pkl\",\"wb\"))"
   ]
  },
  {
   "cell_type": "code",
   "execution_count": 29,
   "id": "271c370d",
   "metadata": {
    "execution": {
     "iopub.execute_input": "2021-09-09T09:07:41.093298Z",
     "iopub.status.busy": "2021-09-09T09:07:41.092524Z",
     "iopub.status.idle": "2021-09-09T09:07:41.390024Z",
     "shell.execute_reply": "2021-09-09T09:07:41.389326Z",
     "shell.execute_reply.started": "2021-09-09T07:51:16.009532Z"
    },
    "papermill": {
     "duration": 0.343908,
     "end_time": "2021-09-09T09:07:41.390165",
     "exception": false,
     "start_time": "2021-09-09T09:07:41.046257",
     "status": "completed"
    },
    "tags": []
   },
   "outputs": [
    {
     "data": {
      "text/plain": [
       "0.9554140127388535"
      ]
     },
     "execution_count": 29,
     "metadata": {},
     "output_type": "execute_result"
    }
   ],
   "source": [
    "import pickle\n",
    "loaded_rfc_mdl = pickle.load(open(\"Rfc.pkl\", 'rb'))\n",
    "loaded_rfc_mdl.score(X_test,y_test)"
   ]
  }
 ],
 "metadata": {
  "kernelspec": {
   "display_name": "Python 3",
   "language": "python",
   "name": "python3"
  },
  "language_info": {
   "codemirror_mode": {
    "name": "ipython",
    "version": 3
   },
   "file_extension": ".py",
   "mimetype": "text/x-python",
   "name": "python",
   "nbconvert_exporter": "python",
   "pygments_lexer": "ipython3",
   "version": "3.7.10"
  },
  "papermill": {
   "default_parameters": {},
   "duration": 2565.62308,
   "end_time": "2021-09-09T09:07:43.090141",
   "environment_variables": {},
   "exception": null,
   "input_path": "__notebook__.ipynb",
   "output_path": "__notebook__.ipynb",
   "parameters": {},
   "start_time": "2021-09-09T08:24:57.467061",
   "version": "2.3.3"
  }
 },
 "nbformat": 4,
 "nbformat_minor": 5
}
